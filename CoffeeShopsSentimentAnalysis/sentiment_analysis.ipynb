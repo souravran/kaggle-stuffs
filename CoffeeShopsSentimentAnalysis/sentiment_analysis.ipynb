{
 "cells": [
  {
   "cell_type": "code",
   "execution_count": 301,
   "metadata": {
    "colab": {
     "base_uri": "https://localhost:8080/"
    },
    "id": "uYIEwVhQtITA",
    "outputId": "df6f6c8e-438a-4c7b-b477-ec1153b46bcb"
   },
   "outputs": [
    {
     "name": "stderr",
     "output_type": "stream",
     "text": [
      "[nltk_data] Downloading package punkt to /home/ssenapati/nltk_data...\n",
      "[nltk_data]   Package punkt is already up-to-date!\n",
      "[nltk_data] Downloading package stopwords to\n",
      "[nltk_data]     /home/ssenapati/nltk_data...\n",
      "[nltk_data]   Package stopwords is already up-to-date!\n",
      "[nltk_data] Downloading package wordnet to\n",
      "[nltk_data]     /home/ssenapati/nltk_data...\n",
      "[nltk_data]   Package wordnet is already up-to-date!\n"
     ]
    },
    {
     "data": {
      "text/plain": [
       "True"
      ]
     },
     "execution_count": 301,
     "metadata": {},
     "output_type": "execute_result"
    }
   ],
   "source": [
    "import pandas as pd\n",
    "\n",
    "# Machine Learning packages\n",
    "from sklearn.feature_extraction.text import CountVectorizer # to create Bag of words\n",
    "from sklearn.model_selection import train_test_split  # for splitting data\n",
    "from sklearn.linear_model import LogisticRegression # to bulid classifier model\n",
    "from sklearn.ensemble import RandomForestClassifier\n",
    "from sklearn.preprocessing import LabelEncoder # to convert classes to number \n",
    "from sklearn.metrics import accuracy_score, classification_report, plot_confusion_matrix # to calculate accuracy and classification report\n",
    "\n",
    "# NLP libraries\n",
    "import re # for preprocessing text\n",
    "import string # for preprocessing text\n",
    "import nltk # for processing texts\n",
    "from nltk.stem import PorterStemmer\n",
    "from nltk.corpus import stopwords # list of stop words\n",
    "nltk.download('punkt')\n",
    "nltk.download('stopwords')\n",
    "nltk.download('wordnet')"
   ]
  },
  {
   "cell_type": "code",
   "execution_count": 302,
   "metadata": {
    "id": "A1k-dMj0jHv6"
   },
   "outputs": [],
   "source": [
    "# to change text style \n",
    "class style:\n",
    "   BOLD = '\\033[1m'\n",
    "   UNDERLINE = '\\033[4m'\n",
    "   END = '\\033[0m'"
   ]
  },
  {
   "cell_type": "markdown",
   "metadata": {
    "id": "wkIYJkk-tXOk"
   },
   "source": [
    "### **Load dataset**"
   ]
  },
  {
   "cell_type": "code",
   "execution_count": 303,
   "metadata": {
    "id": "Vo-WaQEMtZc3"
   },
   "outputs": [],
   "source": [
    "df = pd.read_csv('data/coffee_shops_reviews.csv')"
   ]
  },
  {
   "cell_type": "code",
   "execution_count": 304,
   "metadata": {
    "colab": {
     "base_uri": "https://localhost:8080/",
     "height": 321
    },
    "id": "QiRTGhU7traL",
    "outputId": "fd9c2551-42e0-42b5-cb28-3fbdf4df0175"
   },
   "outputs": [
    {
     "data": {
      "text/html": [
       "<div>\n",
       "<style scoped>\n",
       "    .dataframe tbody tr th:only-of-type {\n",
       "        vertical-align: middle;\n",
       "    }\n",
       "\n",
       "    .dataframe tbody tr th {\n",
       "        vertical-align: top;\n",
       "    }\n",
       "\n",
       "    .dataframe thead th {\n",
       "        text-align: right;\n",
       "    }\n",
       "</style>\n",
       "<table border=\"1\" class=\"dataframe\">\n",
       "  <thead>\n",
       "    <tr style=\"text-align: right;\">\n",
       "      <th></th>\n",
       "      <th>Unnamed: 0</th>\n",
       "      <th>shop_name</th>\n",
       "      <th>rating</th>\n",
       "      <th>numbers_of_rating</th>\n",
       "      <th>price</th>\n",
       "      <th>shop_type</th>\n",
       "      <th>key_words</th>\n",
       "      <th>address</th>\n",
       "      <th>reviews</th>\n",
       "    </tr>\n",
       "  </thead>\n",
       "  <tbody>\n",
       "    <tr>\n",
       "      <th>0</th>\n",
       "      <td>0</td>\n",
       "      <td>Elixir Bunn Coffee</td>\n",
       "      <td>4.3</td>\n",
       "      <td>218</td>\n",
       "      <td>0</td>\n",
       "      <td>cafe</td>\n",
       "      <td>none</td>\n",
       "      <td>King Abdullah Rd, حي الحمراء، Riyadh 13215</td>\n",
       "      <td>['Amazing new branch for my favorite coffee ho...</td>\n",
       "    </tr>\n",
       "    <tr>\n",
       "      <th>1</th>\n",
       "      <td>1</td>\n",
       "      <td>Chamonix Cafe</td>\n",
       "      <td>4.0</td>\n",
       "      <td>563</td>\n",
       "      <td>3</td>\n",
       "      <td>coffee shop</td>\n",
       "      <td>Late-night food, Breakfast, Outdoor seating</td>\n",
       "      <td>9259 Wadi Al Awsat, Al nbsp;2430, Riyadh</td>\n",
       "      <td>['Its really romantic and lovely place with go...</td>\n",
       "    </tr>\n",
       "    <tr>\n",
       "      <th>2</th>\n",
       "      <td>2</td>\n",
       "      <td>dr.CAFE COFFEE</td>\n",
       "      <td>4.1</td>\n",
       "      <td>1571</td>\n",
       "      <td>2</td>\n",
       "      <td>coffee shop</td>\n",
       "      <td>Cosy, Casual, Vegetarian options</td>\n",
       "      <td>As Sulimaniyah, Khurais Road Abi Al Arab Stree...</td>\n",
       "      <td>[\"Sandwich wasn't tasty and it was expensive. ...</td>\n",
       "    </tr>\n",
       "  </tbody>\n",
       "</table>\n",
       "</div>"
      ],
      "text/plain": [
       "   Unnamed: 0            shop_name  rating  numbers_of_rating  price  \\\n",
       "0           0  Elixir Bunn Coffee      4.3                218      0   \n",
       "1           1        Chamonix Cafe     4.0                563      3   \n",
       "2           2       dr.CAFE COFFEE     4.1               1571      2   \n",
       "\n",
       "     shop_type                                    key_words  \\\n",
       "0         cafe                                         none   \n",
       "1  coffee shop  Late-night food, Breakfast, Outdoor seating   \n",
       "2  coffee shop             Cosy, Casual, Vegetarian options   \n",
       "\n",
       "                                             address  \\\n",
       "0         King Abdullah Rd, حي الحمراء، Riyadh 13215   \n",
       "1           9259 Wadi Al Awsat, Al nbsp;2430, Riyadh   \n",
       "2  As Sulimaniyah, Khurais Road Abi Al Arab Stree...   \n",
       "\n",
       "                                             reviews  \n",
       "0  ['Amazing new branch for my favorite coffee ho...  \n",
       "1  ['Its really romantic and lovely place with go...  \n",
       "2  [\"Sandwich wasn't tasty and it was expensive. ...  "
      ]
     },
     "execution_count": 304,
     "metadata": {},
     "output_type": "execute_result"
    }
   ],
   "source": [
    "df.head(3)"
   ]
  },
  {
   "cell_type": "code",
   "execution_count": 305,
   "metadata": {
    "colab": {
     "base_uri": "https://localhost:8080/"
    },
    "id": "eV9jny4gWaZd",
    "outputId": "f7781362-fdcd-48fa-e301-ca15641a44cd"
   },
   "outputs": [
    {
     "data": {
      "text/plain": [
       "(198, 9)"
      ]
     },
     "execution_count": 305,
     "metadata": {},
     "output_type": "execute_result"
    }
   ],
   "source": [
    "df.shape"
   ]
  },
  {
   "cell_type": "markdown",
   "metadata": {
    "id": "q0RGIZ3mdCuz"
   },
   "source": [
    "### **Explore data**"
   ]
  },
  {
   "cell_type": "markdown",
   "metadata": {
    "id": "Jzl4Gm8odGqB"
   },
   "source": [
    "#### **One hot encoding after spliting key_words**"
   ]
  },
  {
   "cell_type": "code",
   "execution_count": 306,
   "metadata": {
    "id": "0hFGEu2jPgXV"
   },
   "outputs": [],
   "source": [
    "# find unique key words from dataset\n",
    "keys = [i.split(', ') for i in df.key_words]\n",
    "keys = list({x for l in keys for x in l if x != 'none'}) # also remove 'none' key word"
   ]
  },
  {
   "cell_type": "code",
   "execution_count": 307,
   "metadata": {
    "id": "7huzp0CRXI5Y"
   },
   "outputs": [],
   "source": [
    "# split key_words to many columns\n",
    "\n",
    "dic_keys = dict((key, []) for key in keys) # add unique key words as key for dict\n",
    "\n",
    "# itrate through key_words column \n",
    "for i in df.key_words:\n",
    "  for k in keys:\n",
    "    # store 1 if key existing in the current key_word row, otherwise, store 0\n",
    "    if k in i.split(', '):\n",
    "        dic_keys[k].append(1)\n",
    "    else:\n",
    "        dic_keys[k].append(0)"
   ]
  },
  {
   "cell_type": "code",
   "execution_count": 308,
   "metadata": {
    "colab": {
     "base_uri": "https://localhost:8080/",
     "height": 643
    },
    "id": "AARvkRdyT-CI",
    "outputId": "b861f25c-240e-4313-970a-e7c1bb286cf4"
   },
   "outputs": [
    {
     "data": {
      "text/html": [
       "<div>\n",
       "<style scoped>\n",
       "    .dataframe tbody tr th:only-of-type {\n",
       "        vertical-align: middle;\n",
       "    }\n",
       "\n",
       "    .dataframe tbody tr th {\n",
       "        vertical-align: top;\n",
       "    }\n",
       "\n",
       "    .dataframe thead th {\n",
       "        text-align: right;\n",
       "    }\n",
       "</style>\n",
       "<table border=\"1\" class=\"dataframe\">\n",
       "  <thead>\n",
       "    <tr style=\"text-align: right;\">\n",
       "      <th></th>\n",
       "      <th>Unnamed: 0</th>\n",
       "      <th>shop_name</th>\n",
       "      <th>rating</th>\n",
       "      <th>numbers_of_rating</th>\n",
       "      <th>price</th>\n",
       "      <th>shop_type</th>\n",
       "      <th>key_words</th>\n",
       "      <th>address</th>\n",
       "      <th>reviews</th>\n",
       "      <th>Cosy</th>\n",
       "      <th>Groups</th>\n",
       "      <th>Good for kids</th>\n",
       "      <th>Breakfast</th>\n",
       "      <th>Late-night food</th>\n",
       "      <th>Happy hour food</th>\n",
       "      <th>Casual</th>\n",
       "      <th>Vegetarian options</th>\n",
       "      <th>Outdoor seating</th>\n",
       "      <th>Cash only</th>\n",
       "    </tr>\n",
       "  </thead>\n",
       "  <tbody>\n",
       "    <tr>\n",
       "      <th>0</th>\n",
       "      <td>0</td>\n",
       "      <td>Elixir Bunn Coffee</td>\n",
       "      <td>4.3</td>\n",
       "      <td>218</td>\n",
       "      <td>0</td>\n",
       "      <td>cafe</td>\n",
       "      <td>none</td>\n",
       "      <td>King Abdullah Rd, حي الحمراء، Riyadh 13215</td>\n",
       "      <td>['Amazing new branch for my favorite coffee ho...</td>\n",
       "      <td>0</td>\n",
       "      <td>0</td>\n",
       "      <td>0</td>\n",
       "      <td>0</td>\n",
       "      <td>0</td>\n",
       "      <td>0</td>\n",
       "      <td>0</td>\n",
       "      <td>0</td>\n",
       "      <td>0</td>\n",
       "      <td>0</td>\n",
       "    </tr>\n",
       "    <tr>\n",
       "      <th>1</th>\n",
       "      <td>1</td>\n",
       "      <td>Chamonix Cafe</td>\n",
       "      <td>4.0</td>\n",
       "      <td>563</td>\n",
       "      <td>3</td>\n",
       "      <td>coffee shop</td>\n",
       "      <td>Late-night food, Breakfast, Outdoor seating</td>\n",
       "      <td>9259 Wadi Al Awsat, Al nbsp;2430, Riyadh</td>\n",
       "      <td>['Its really romantic and lovely place with go...</td>\n",
       "      <td>0</td>\n",
       "      <td>0</td>\n",
       "      <td>0</td>\n",
       "      <td>1</td>\n",
       "      <td>1</td>\n",
       "      <td>0</td>\n",
       "      <td>0</td>\n",
       "      <td>0</td>\n",
       "      <td>1</td>\n",
       "      <td>0</td>\n",
       "    </tr>\n",
       "    <tr>\n",
       "      <th>2</th>\n",
       "      <td>2</td>\n",
       "      <td>dr.CAFE COFFEE</td>\n",
       "      <td>4.1</td>\n",
       "      <td>1571</td>\n",
       "      <td>2</td>\n",
       "      <td>coffee shop</td>\n",
       "      <td>Cosy, Casual, Vegetarian options</td>\n",
       "      <td>As Sulimaniyah, Khurais Road Abi Al Arab Stree...</td>\n",
       "      <td>[\"Sandwich wasn't tasty and it was expensive. ...</td>\n",
       "      <td>1</td>\n",
       "      <td>0</td>\n",
       "      <td>0</td>\n",
       "      <td>0</td>\n",
       "      <td>0</td>\n",
       "      <td>0</td>\n",
       "      <td>1</td>\n",
       "      <td>1</td>\n",
       "      <td>0</td>\n",
       "      <td>0</td>\n",
       "    </tr>\n",
       "    <tr>\n",
       "      <th>3</th>\n",
       "      <td>3</td>\n",
       "      <td>The Shaky</td>\n",
       "      <td>3.9</td>\n",
       "      <td>52</td>\n",
       "      <td>0</td>\n",
       "      <td>coffee shop</td>\n",
       "      <td>Cosy, Casual, Groups</td>\n",
       "      <td>لوكاليزر مول بوابة رقم 7 طريق الأمير محمد بن ع...</td>\n",
       "      <td>['Nice place', \"It's delicious you can build y...</td>\n",
       "      <td>1</td>\n",
       "      <td>1</td>\n",
       "      <td>0</td>\n",
       "      <td>0</td>\n",
       "      <td>0</td>\n",
       "      <td>0</td>\n",
       "      <td>1</td>\n",
       "      <td>0</td>\n",
       "      <td>0</td>\n",
       "      <td>0</td>\n",
       "    </tr>\n",
       "    <tr>\n",
       "      <th>4</th>\n",
       "      <td>4</td>\n",
       "      <td>قرمز كافيه - قهوة مختصة</td>\n",
       "      <td>4.1</td>\n",
       "      <td>956</td>\n",
       "      <td>2</td>\n",
       "      <td>coffee shop</td>\n",
       "      <td>Cosy, Casual, Groups</td>\n",
       "      <td>2659 Dammam Branch Road Al Yarmuk Riyadh 13243...</td>\n",
       "      <td>['This coffee shop is a two story shop with a ...</td>\n",
       "      <td>1</td>\n",
       "      <td>1</td>\n",
       "      <td>0</td>\n",
       "      <td>0</td>\n",
       "      <td>0</td>\n",
       "      <td>0</td>\n",
       "      <td>1</td>\n",
       "      <td>0</td>\n",
       "      <td>0</td>\n",
       "      <td>0</td>\n",
       "    </tr>\n",
       "  </tbody>\n",
       "</table>\n",
       "</div>"
      ],
      "text/plain": [
       "   Unnamed: 0                shop_name  rating  numbers_of_rating  price  \\\n",
       "0           0      Elixir Bunn Coffee      4.3                218      0   \n",
       "1           1            Chamonix Cafe     4.0                563      3   \n",
       "2           2           dr.CAFE COFFEE     4.1               1571      2   \n",
       "3           3                The Shaky     3.9                 52      0   \n",
       "4           4  قرمز كافيه - قهوة مختصة     4.1                956      2   \n",
       "\n",
       "     shop_type                                    key_words  \\\n",
       "0         cafe                                         none   \n",
       "1  coffee shop  Late-night food, Breakfast, Outdoor seating   \n",
       "2  coffee shop             Cosy, Casual, Vegetarian options   \n",
       "3  coffee shop                         Cosy, Casual, Groups   \n",
       "4  coffee shop                         Cosy, Casual, Groups   \n",
       "\n",
       "                                             address  \\\n",
       "0         King Abdullah Rd, حي الحمراء، Riyadh 13215   \n",
       "1           9259 Wadi Al Awsat, Al nbsp;2430, Riyadh   \n",
       "2  As Sulimaniyah, Khurais Road Abi Al Arab Stree...   \n",
       "3  لوكاليزر مول بوابة رقم 7 طريق الأمير محمد بن ع...   \n",
       "4  2659 Dammam Branch Road Al Yarmuk Riyadh 13243...   \n",
       "\n",
       "                                             reviews  Cosy  Groups  \\\n",
       "0  ['Amazing new branch for my favorite coffee ho...     0       0   \n",
       "1  ['Its really romantic and lovely place with go...     0       0   \n",
       "2  [\"Sandwich wasn't tasty and it was expensive. ...     1       0   \n",
       "3  ['Nice place', \"It's delicious you can build y...     1       1   \n",
       "4  ['This coffee shop is a two story shop with a ...     1       1   \n",
       "\n",
       "   Good for kids  Breakfast  Late-night food  Happy hour food  Casual  \\\n",
       "0              0          0                0                0       0   \n",
       "1              0          1                1                0       0   \n",
       "2              0          0                0                0       1   \n",
       "3              0          0                0                0       1   \n",
       "4              0          0                0                0       1   \n",
       "\n",
       "   Vegetarian options  Outdoor seating  Cash only  \n",
       "0                   0                0          0  \n",
       "1                   0                1          0  \n",
       "2                   1                0          0  \n",
       "3                   0                0          0  \n",
       "4                   0                0          0  "
      ]
     },
     "execution_count": 308,
     "metadata": {},
     "output_type": "execute_result"
    }
   ],
   "source": [
    "# join new columns in the data\n",
    "df = df.join(pd.DataFrame(dic_keys))\n",
    "df.head()"
   ]
  },
  {
   "cell_type": "markdown",
   "metadata": {},
   "source": [
    "#### **One hot encoding for shop_type**"
   ]
  },
  {
   "cell_type": "code",
   "execution_count": 309,
   "metadata": {
    "id": "BepFUKHEtxBc"
   },
   "outputs": [
    {
     "data": {
      "text/html": [
       "<div>\n",
       "<style scoped>\n",
       "    .dataframe tbody tr th:only-of-type {\n",
       "        vertical-align: middle;\n",
       "    }\n",
       "\n",
       "    .dataframe tbody tr th {\n",
       "        vertical-align: top;\n",
       "    }\n",
       "\n",
       "    .dataframe thead th {\n",
       "        text-align: right;\n",
       "    }\n",
       "</style>\n",
       "<table border=\"1\" class=\"dataframe\">\n",
       "  <thead>\n",
       "    <tr style=\"text-align: right;\">\n",
       "      <th></th>\n",
       "      <th>Unnamed: 0</th>\n",
       "      <th>shop_name</th>\n",
       "      <th>rating</th>\n",
       "      <th>numbers_of_rating</th>\n",
       "      <th>price</th>\n",
       "      <th>key_words</th>\n",
       "      <th>address</th>\n",
       "      <th>reviews</th>\n",
       "      <th>Cosy</th>\n",
       "      <th>Groups</th>\n",
       "      <th>Good for kids</th>\n",
       "      <th>Breakfast</th>\n",
       "      <th>Late-night food</th>\n",
       "      <th>Happy hour food</th>\n",
       "      <th>Casual</th>\n",
       "      <th>Vegetarian options</th>\n",
       "      <th>Outdoor seating</th>\n",
       "      <th>Cash only</th>\n",
       "      <th>shop_type_cafe</th>\n",
       "      <th>shop_type_coffee shop</th>\n",
       "    </tr>\n",
       "  </thead>\n",
       "  <tbody>\n",
       "    <tr>\n",
       "      <th>0</th>\n",
       "      <td>0</td>\n",
       "      <td>Elixir Bunn Coffee</td>\n",
       "      <td>4.3</td>\n",
       "      <td>218</td>\n",
       "      <td>0</td>\n",
       "      <td>none</td>\n",
       "      <td>King Abdullah Rd, حي الحمراء، Riyadh 13215</td>\n",
       "      <td>['Amazing new branch for my favorite coffee ho...</td>\n",
       "      <td>0</td>\n",
       "      <td>0</td>\n",
       "      <td>0</td>\n",
       "      <td>0</td>\n",
       "      <td>0</td>\n",
       "      <td>0</td>\n",
       "      <td>0</td>\n",
       "      <td>0</td>\n",
       "      <td>0</td>\n",
       "      <td>0</td>\n",
       "      <td>1</td>\n",
       "      <td>0</td>\n",
       "    </tr>\n",
       "    <tr>\n",
       "      <th>1</th>\n",
       "      <td>1</td>\n",
       "      <td>Chamonix Cafe</td>\n",
       "      <td>4.0</td>\n",
       "      <td>563</td>\n",
       "      <td>3</td>\n",
       "      <td>Late-night food, Breakfast, Outdoor seating</td>\n",
       "      <td>9259 Wadi Al Awsat, Al nbsp;2430, Riyadh</td>\n",
       "      <td>['Its really romantic and lovely place with go...</td>\n",
       "      <td>0</td>\n",
       "      <td>0</td>\n",
       "      <td>0</td>\n",
       "      <td>1</td>\n",
       "      <td>1</td>\n",
       "      <td>0</td>\n",
       "      <td>0</td>\n",
       "      <td>0</td>\n",
       "      <td>1</td>\n",
       "      <td>0</td>\n",
       "      <td>0</td>\n",
       "      <td>1</td>\n",
       "    </tr>\n",
       "    <tr>\n",
       "      <th>2</th>\n",
       "      <td>2</td>\n",
       "      <td>dr.CAFE COFFEE</td>\n",
       "      <td>4.1</td>\n",
       "      <td>1571</td>\n",
       "      <td>2</td>\n",
       "      <td>Cosy, Casual, Vegetarian options</td>\n",
       "      <td>As Sulimaniyah, Khurais Road Abi Al Arab Stree...</td>\n",
       "      <td>[\"Sandwich wasn't tasty and it was expensive. ...</td>\n",
       "      <td>1</td>\n",
       "      <td>0</td>\n",
       "      <td>0</td>\n",
       "      <td>0</td>\n",
       "      <td>0</td>\n",
       "      <td>0</td>\n",
       "      <td>1</td>\n",
       "      <td>1</td>\n",
       "      <td>0</td>\n",
       "      <td>0</td>\n",
       "      <td>0</td>\n",
       "      <td>1</td>\n",
       "    </tr>\n",
       "  </tbody>\n",
       "</table>\n",
       "</div>"
      ],
      "text/plain": [
       "   Unnamed: 0            shop_name  rating  numbers_of_rating  price  \\\n",
       "0           0  Elixir Bunn Coffee      4.3                218      0   \n",
       "1           1        Chamonix Cafe     4.0                563      3   \n",
       "2           2       dr.CAFE COFFEE     4.1               1571      2   \n",
       "\n",
       "                                     key_words  \\\n",
       "0                                         none   \n",
       "1  Late-night food, Breakfast, Outdoor seating   \n",
       "2             Cosy, Casual, Vegetarian options   \n",
       "\n",
       "                                             address  \\\n",
       "0         King Abdullah Rd, حي الحمراء، Riyadh 13215   \n",
       "1           9259 Wadi Al Awsat, Al nbsp;2430, Riyadh   \n",
       "2  As Sulimaniyah, Khurais Road Abi Al Arab Stree...   \n",
       "\n",
       "                                             reviews  Cosy  Groups  \\\n",
       "0  ['Amazing new branch for my favorite coffee ho...     0       0   \n",
       "1  ['Its really romantic and lovely place with go...     0       0   \n",
       "2  [\"Sandwich wasn't tasty and it was expensive. ...     1       0   \n",
       "\n",
       "   Good for kids  Breakfast  Late-night food  Happy hour food  Casual  \\\n",
       "0              0          0                0                0       0   \n",
       "1              0          1                1                0       0   \n",
       "2              0          0                0                0       1   \n",
       "\n",
       "   Vegetarian options  Outdoor seating  Cash only  shop_type_cafe  \\\n",
       "0                   0                0          0               1   \n",
       "1                   0                1          0               0   \n",
       "2                   1                0          0               0   \n",
       "\n",
       "   shop_type_coffee shop  \n",
       "0                      0  \n",
       "1                      1  \n",
       "2                      1  "
      ]
     },
     "execution_count": 309,
     "metadata": {},
     "output_type": "execute_result"
    }
   ],
   "source": [
    "# convert shop_type to numeric \n",
    "df = pd.get_dummies(df, columns=['shop_type'])\n",
    "df.head(3)"
   ]
  },
  {
   "cell_type": "markdown",
   "metadata": {
    "id": "c0nujUXHdPDu"
   },
   "source": [
    "#### **Create Target** "
   ]
  },
  {
   "cell_type": "code",
   "execution_count": 310,
   "metadata": {
    "id": "VCaMyQ5ruDS7"
   },
   "outputs": [],
   "source": [
    "## Add target column\n",
    "df['quality'] = ['good' if i > 4 else 'bad' for i in df.rating]"
   ]
  },
  {
   "cell_type": "code",
   "execution_count": 311,
   "metadata": {
    "id": "IInDYF65wrTF"
   },
   "outputs": [],
   "source": [
    "# split reviews for the same coffee shop\n",
    "reviews = []\n",
    "for i in range(len(df)):\n",
    "  reviews_per_coffee_shop = str(df.loc[i].reviews).replace('\"',\"'\").split(\"', '\")\n",
    "  for j in range(len(reviews_per_coffee_shop)):\n",
    "    # add review and quality to the reviews list\n",
    "    reviews.append([reviews_per_coffee_shop[j],df.loc[i].quality]) "
   ]
  },
  {
   "cell_type": "code",
   "execution_count": 312,
   "metadata": {
    "colab": {
     "base_uri": "https://localhost:8080/",
     "height": 142
    },
    "id": "yJAXZJqsu-c5",
    "outputId": "3ae3574e-96d8-45d0-ffe1-8162be617ee5"
   },
   "outputs": [
    {
     "data": {
      "text/html": [
       "<div>\n",
       "<style scoped>\n",
       "    .dataframe tbody tr th:only-of-type {\n",
       "        vertical-align: middle;\n",
       "    }\n",
       "\n",
       "    .dataframe tbody tr th {\n",
       "        vertical-align: top;\n",
       "    }\n",
       "\n",
       "    .dataframe thead th {\n",
       "        text-align: right;\n",
       "    }\n",
       "</style>\n",
       "<table border=\"1\" class=\"dataframe\">\n",
       "  <thead>\n",
       "    <tr style=\"text-align: right;\">\n",
       "      <th></th>\n",
       "      <th>Review</th>\n",
       "      <th>Quality</th>\n",
       "    </tr>\n",
       "  </thead>\n",
       "  <tbody>\n",
       "    <tr>\n",
       "      <th>324</th>\n",
       "      <td>ONE WORD REVIEW = BRILLIANT                   ...</td>\n",
       "      <td>bad</td>\n",
       "    </tr>\n",
       "    <tr>\n",
       "      <th>176</th>\n",
       "      <td>To be honest the coffee here is way better tha...</td>\n",
       "      <td>good</td>\n",
       "    </tr>\n",
       "    <tr>\n",
       "      <th>402</th>\n",
       "      <td>Salted caramel ❤️']</td>\n",
       "      <td>good</td>\n",
       "    </tr>\n",
       "  </tbody>\n",
       "</table>\n",
       "</div>"
      ],
      "text/plain": [
       "                                                Review Quality\n",
       "324  ONE WORD REVIEW = BRILLIANT                   ...     bad\n",
       "176  To be honest the coffee here is way better tha...    good\n",
       "402                                Salted caramel ❤️']    good"
      ]
     },
     "execution_count": 312,
     "metadata": {},
     "output_type": "execute_result"
    }
   ],
   "source": [
    "# create new dataframe for reviews \n",
    "reviews_df = pd.DataFrame.from_records(reviews, columns=['Review','Quality'])\n",
    "reviews_df.sample(3)"
   ]
  },
  {
   "cell_type": "code",
   "execution_count": 313,
   "metadata": {
    "colab": {
     "base_uri": "https://localhost:8080/"
    },
    "id": "ZfTGshTRx7FW",
    "outputId": "99615db2-29c4-44cd-8a1a-7f1c81b026a5"
   },
   "outputs": [
    {
     "data": {
      "text/plain": [
       "(562, 2)"
      ]
     },
     "execution_count": 313,
     "metadata": {},
     "output_type": "execute_result"
    }
   ],
   "source": [
    "reviews_df.shape"
   ]
  },
  {
   "cell_type": "markdown",
   "metadata": {
    "id": "PAvYNBypy13Q"
   },
   "source": [
    "#### **Clean data**"
   ]
  },
  {
   "cell_type": "code",
   "execution_count": 314,
   "metadata": {
    "id": "AODKBWFWyxhM"
   },
   "outputs": [],
   "source": [
    "def clean_text(text):\n",
    "  '''\n",
    "  DESCRIPTION:\n",
    "  This function to preproccesing text \n",
    "\n",
    "  INPUT: \n",
    "  text: string\n",
    "\n",
    "  OUTPUT: \n",
    "  text: string after clean it\n",
    "\n",
    "  ''' \n",
    "  text = text.lower() # convert letters to lower case\n",
    "  text = re.sub(\"[^a-zA-Z]\", \" \", text) # remove non-letters\n",
    "  text = re.sub(r'\\d+', '', text) # remove number\n",
    "  text = re.sub(r'http\\S+', '', text) # remove links\n",
    "  text = text.translate(str.maketrans('','', string.punctuation)) # remove punctuation\n",
    "  text = re.sub(' +', ' ',text) # remove extra space\n",
    "  text = text.strip() # remove whitespaces\n",
    "\n",
    "  text = ' '.join([word for word in text.split() if word not in stopwords.words(\"english\")]) # remove stop words\n",
    "\n",
    "  # lemmatization returns an actual word of the language\n",
    "  lemma = nltk.WordNetLemmatizer() # define lemmatizer\n",
    "  text = ' '.join([lemma.lemmatize(word) for word in text.split()]) \n",
    "  \n",
    "  return text"
   ]
  },
  {
   "cell_type": "code",
   "execution_count": 315,
   "metadata": {
    "id": "EH6lD37hzMCl"
   },
   "outputs": [],
   "source": [
    "# The cleaning function applied in all reviews\n",
    "reviews_df['Cleaned_Review'] = reviews_df['Review'].apply(clean_text)"
   ]
  },
  {
   "cell_type": "code",
   "execution_count": 316,
   "metadata": {
    "colab": {
     "base_uri": "https://localhost:8080/"
    },
    "id": "nj_F4EZjzWlh",
    "outputId": "4f3b4399-67ad-4c5f-a02a-3b9bf3624a40"
   },
   "outputs": [
    {
     "name": "stdout",
     "output_type": "stream",
     "text": [
      "There are  7  empty reviews in the data.\n"
     ]
    },
    {
     "data": {
      "text/html": [
       "<div>\n",
       "<style scoped>\n",
       "    .dataframe tbody tr th:only-of-type {\n",
       "        vertical-align: middle;\n",
       "    }\n",
       "\n",
       "    .dataframe tbody tr th {\n",
       "        vertical-align: top;\n",
       "    }\n",
       "\n",
       "    .dataframe thead th {\n",
       "        text-align: right;\n",
       "    }\n",
       "</style>\n",
       "<table border=\"1\" class=\"dataframe\">\n",
       "  <thead>\n",
       "    <tr style=\"text-align: right;\">\n",
       "      <th></th>\n",
       "      <th>Review</th>\n",
       "      <th>Quality</th>\n",
       "      <th>Cleaned_Review</th>\n",
       "    </tr>\n",
       "  </thead>\n",
       "  <tbody>\n",
       "    <tr>\n",
       "      <th>51</th>\n",
       "      <td>['Awful coffee and tea</td>\n",
       "      <td>bad</td>\n",
       "      <td>awful coffee tea</td>\n",
       "    </tr>\n",
       "    <tr>\n",
       "      <th>435</th>\n",
       "      <td>['One of the best speciality coffee at Riyadh ...</td>\n",
       "      <td>bad</td>\n",
       "      <td>one best speciality coffee riyadh tried latte ...</td>\n",
       "    </tr>\n",
       "    <tr>\n",
       "      <th>243</th>\n",
       "      <td>Great coffee and very helpful staff</td>\n",
       "      <td>good</td>\n",
       "      <td>great coffee helpful staff</td>\n",
       "    </tr>\n",
       "  </tbody>\n",
       "</table>\n",
       "</div>"
      ],
      "text/plain": [
       "                                                Review Quality  \\\n",
       "51                              ['Awful coffee and tea     bad   \n",
       "435  ['One of the best speciality coffee at Riyadh ...     bad   \n",
       "243                Great coffee and very helpful staff    good   \n",
       "\n",
       "                                        Cleaned_Review  \n",
       "51                                    awful coffee tea  \n",
       "435  one best speciality coffee riyadh tried latte ...  \n",
       "243                         great coffee helpful staff  "
      ]
     },
     "execution_count": 316,
     "metadata": {},
     "output_type": "execute_result"
    }
   ],
   "source": [
    "# get the empty reviews after cleaning procces \n",
    "empty_reviews_index = reviews_df[reviews_df.Cleaned_Review == ''].index\n",
    "print(\"There are \",len(empty_reviews_index),' empty reviews in the data.')\n",
    "\n",
    "# siince the empty reviews are few, we drop these rows \n",
    "reviews_df.drop(empty_reviews_index, inplace= True)\n",
    "reviews_df.sample(3)"
   ]
  },
  {
   "cell_type": "markdown",
   "metadata": {
    "id": "qkgNlkFyd1dM"
   },
   "source": [
    "## **Baseline**"
   ]
  },
  {
   "cell_type": "code",
   "execution_count": 317,
   "metadata": {
    "colab": {
     "base_uri": "https://localhost:8080/"
    },
    "id": "zEFQ3UWIOtFG",
    "outputId": "98baa220-3131-4cd3-a8c8-11c13b017805"
   },
   "outputs": [
    {
     "data": {
      "text/plain": [
       "bad     0.556757\n",
       "good    0.443243\n",
       "Name: Quality, dtype: float64"
      ]
     },
     "execution_count": 317,
     "metadata": {},
     "output_type": "execute_result"
    }
   ],
   "source": [
    "# baseline model\n",
    "reviews_df.Quality.value_counts(normalize=True)"
   ]
  },
  {
   "cell_type": "markdown",
   "metadata": {
    "id": "13NEildvdt53"
   },
   "source": [
    "## **Reviews Classifiction model**"
   ]
  },
  {
   "cell_type": "markdown",
   "metadata": {
    "id": "bbFVGqngeH30"
   },
   "source": [
    "### **Data prepration**"
   ]
  },
  {
   "cell_type": "markdown",
   "metadata": {
    "id": "TjwJPhrB5sl8"
   },
   "source": [
    "#### **Create a bag of words (CountVectorizer)**\n",
    "\n",
    "[CountVectorizer](https://scikit-learn.org/stable/modules/generated/sklearn.feature_extraction.text.CountVectorizer.html) use to convert a collection of text documents to a matrix of token counts.\n"
   ]
  },
  {
   "cell_type": "code",
   "execution_count": 318,
   "metadata": {
    "colab": {
     "base_uri": "https://localhost:8080/"
    },
    "id": "wKfOFMpn40nj",
    "outputId": "36b6371e-47ee-44a2-eaa5-6f851d456c27"
   },
   "outputs": [
    {
     "data": {
      "text/plain": [
       "array([[1, 0, 0, ..., 0, 0, 0],\n",
       "       [0, 0, 0, ..., 0, 0, 0],\n",
       "       [0, 0, 0, ..., 0, 0, 1],\n",
       "       ...,\n",
       "       [0, 0, 0, ..., 0, 0, 0],\n",
       "       [0, 0, 0, ..., 0, 0, 0],\n",
       "       [0, 0, 0, ..., 0, 0, 0]])"
      ]
     },
     "execution_count": 318,
     "metadata": {},
     "output_type": "execute_result"
    }
   ],
   "source": [
    "max_features = 150 # maximum number of features \n",
    "count_vector = CountVectorizer(max_features = max_features, stop_words='english')  # create Count Vectorizer\n",
    "X = count_vector.fit_transform(reviews_df['Cleaned_Review']).toarray() # fit the CountVectorizer using reviews data\n",
    "X"
   ]
  },
  {
   "cell_type": "code",
   "execution_count": 319,
   "metadata": {
    "colab": {
     "base_uri": "https://localhost:8080/"
    },
    "id": "2Q-UoDz552pq",
    "outputId": "c97d11d1-1a23-4e78-c13d-86b414ee4290"
   },
   "outputs": [
    {
     "name": "stdout",
     "output_type": "stream",
     "text": [
      "Most using 150 words: ['amazing', 'area', 'ask', 'atmosphere', 'available', 'average', 'bad', 'bean', 'beautiful', 'best', 'better', 'bit', 'branch', 'bun', 'buy', 'cafe', 'cake', 'came', 'caramel', 'cashier', 'chair', 'chocolate', 'clean', 'coffee', 'cold', 'come', 'comfortable', 'cozy', 'crowded', 'cup', 'customer', 'day', 'deal', 'decoration', 'definitely', 'delicious', 'dessert', 'different', 'drink', 'drive', 'enjoy', 'environment', 'especially', 'espresso', 'excellent', 'expensive', 'experience', 'family', 'fast', 'favorite', 'flat', 'floor', 'food', 'free', 'friend', 'friendly', 'good', 'google', 'great', 'guy', 'helpful', 'high', 'honey', 'hot', 'ice', 'iced', 'inside', 'know', 'latte', 'le', 'like', 'liked', 'little', 'location', 'long', 'lot', 'love', 'loved', 'lovely', 'make', 'meeting', 'menu', 'milk', 'mocha', 'morei', 'morning', 'multiple', 'music', 'nan', 'need', 'new', 'nice', 'offer', 'open', 'option', 'order', 'ordered', 'original', 'outdoor', 'overall', 'parking', 'people', 'perfect', 'place', 'price', 'product', 'quality', 'quiet', 'quite', 'really', 'recommend', 'recommended', 'riyadh', 'sandwich', 'seating', 'section', 'serve', 'service', 'shop', 'single', 'sit', 'small', 'spacious', 'spanish', 'special', 'staff', 'star', 'starbucks', 'store', 'super', 'sure', 'sweet', 'table', 'taste', 'tasty', 'tea', 'think', 'time', 'translated', 'tried', 'try', 'type', 'usually', 'variety', 'visit', 'visited', 'waiter', 'way', 'white', 'work'] \n"
     ]
    },
    {
     "name": "stderr",
     "output_type": "stream",
     "text": [
      "/home/ssenapati/.local/lib/python3.8/site-packages/sklearn/utils/deprecation.py:87: FutureWarning: Function get_feature_names is deprecated; get_feature_names is deprecated in 1.0 and will be removed in 1.2. Please use get_feature_names_out instead.\n",
      "  warnings.warn(msg, category=FutureWarning)\n"
     ]
    }
   ],
   "source": [
    "print(\"Most using {} words: {} \".format(max_features, count_vector.get_feature_names()))"
   ]
  },
  {
   "cell_type": "code",
   "execution_count": 320,
   "metadata": {
    "colab": {
     "base_uri": "https://localhost:8080/"
    },
    "id": "tAvk4USa55bZ",
    "outputId": "72077d9d-5442-42a2-d30c-a86878f2b93a"
   },
   "outputs": [
    {
     "name": "stdout",
     "output_type": "stream",
     "text": [
      "{'amazing': 0, 'new': 90, 'branch': 12, 'favorite': 49, 'coffee': 23, 'recommended': 111, 'like': 70, 'different': 37, 'cafe': 15, 'drink': 38, 'cold': 24, 'good': 56, 'nice': 91, 'staff': 125, 'work': 149, 'excellent': 44, 'cup': 29, 'morning': 85, 'sure': 130, 'really': 109, 'lovely': 78, 'place': 103, 'food': 52, 'enjoy': 40, 'little': 72, 'friendly': 55, 'price': 104, 'come': 25, 'great': 58, 'service': 117, 'sandwich': 113, 'tasty': 134, 'expensive': 45, 'friend': 54, 'multiple': 86, 'type': 141, 'comfortable': 26, 'decoration': 33, 'shop': 118, 'riyadh': 112, 'variety': 143, 'hot': 63, 'cake': 16, 'serve': 116, 'delicious': 35, 'translated': 138, 'google': 57, 'small': 121, 'original': 97, 'spacious': 122, 'area': 1, 'family': 47, 'single': 119, 'section': 115, 'ordered': 96, 'time': 137, 'experience': 46, 'atmosphere': 3, 'best': 9, 'bad': 6, 'beautiful': 8, 'latte': 68, 'dessert': 36, 'flat': 50, 'white': 148, 'option': 94, 'spanish': 123, 'try': 140, 'sweet': 131, 'crowded': 28, 'customer': 30, 'loved': 77, 'taste': 133, 'espresso': 43, 'tried': 139, 'morei': 84, 'seating': 114, 'visit': 144, 'day': 31, 'think': 136, 'need': 89, 'deal': 32, 'helpful': 60, 'quiet': 107, 'music': 87, 'quite': 108, 'floor': 51, 'usually': 142, 'location': 73, 'lot': 75, 'clean': 22, 'perfect': 102, 'chocolate': 21, 'caramel': 18, 'better': 10, 'inside': 66, 'offer': 92, 'love': 76, 'long': 74, 'waiter': 146, 'environment': 41, 'make': 79, 'order': 95, 'know': 67, 'definitely': 34, 'recommend': 110, 'average': 5, 'overall': 99, 'visited': 145, 'menu': 81, 'came': 17, 'tea': 135, 'ask': 2, 'free': 53, 'available': 4, 'meeting': 80, 'table': 132, 'mocha': 83, 'guy': 59, 'nan': 88, 'open': 93, 'outdoor': 98, 'parking': 100, 'cashier': 19, 'quality': 106, 'star': 126, 'starbucks': 127, 'especially': 42, 'sit': 120, 'chair': 20, 'drive': 39, 'special': 124, 'product': 105, 'milk': 82, 'high': 61, 'bean': 7, 'fast': 48, 'super': 129, 'cozy': 27, 'bit': 11, 'people': 101, 'ice': 64, 'way': 147, 'store': 128, 'liked': 71, 'iced': 65, 'bun': 13, 'buy': 14, 'honey': 62, 'le': 69}\n"
     ]
    }
   ],
   "source": [
    "# counts for each word in count_vector\n",
    "print(count_vector.vocabulary_)"
   ]
  },
  {
   "cell_type": "code",
   "execution_count": 321,
   "metadata": {
    "colab": {
     "base_uri": "https://localhost:8080/",
     "height": 437
    },
    "id": "oECD9HTU8brI",
    "outputId": "8a6162d4-4b4d-41f9-9a4a-2b7116935666"
   },
   "outputs": [
    {
     "data": {
      "text/html": [
       "<div>\n",
       "<style scoped>\n",
       "    .dataframe tbody tr th:only-of-type {\n",
       "        vertical-align: middle;\n",
       "    }\n",
       "\n",
       "    .dataframe tbody tr th {\n",
       "        vertical-align: top;\n",
       "    }\n",
       "\n",
       "    .dataframe thead th {\n",
       "        text-align: right;\n",
       "    }\n",
       "</style>\n",
       "<table border=\"1\" class=\"dataframe\">\n",
       "  <thead>\n",
       "    <tr style=\"text-align: right;\">\n",
       "      <th></th>\n",
       "      <th>amazing</th>\n",
       "      <th>area</th>\n",
       "      <th>ask</th>\n",
       "      <th>atmosphere</th>\n",
       "      <th>available</th>\n",
       "      <th>average</th>\n",
       "      <th>bad</th>\n",
       "      <th>bean</th>\n",
       "      <th>beautiful</th>\n",
       "      <th>best</th>\n",
       "      <th>...</th>\n",
       "      <th>try</th>\n",
       "      <th>type</th>\n",
       "      <th>usually</th>\n",
       "      <th>variety</th>\n",
       "      <th>visit</th>\n",
       "      <th>visited</th>\n",
       "      <th>waiter</th>\n",
       "      <th>way</th>\n",
       "      <th>white</th>\n",
       "      <th>work</th>\n",
       "    </tr>\n",
       "  </thead>\n",
       "  <tbody>\n",
       "    <tr>\n",
       "      <th>0</th>\n",
       "      <td>1</td>\n",
       "      <td>0</td>\n",
       "      <td>0</td>\n",
       "      <td>0</td>\n",
       "      <td>0</td>\n",
       "      <td>0</td>\n",
       "      <td>0</td>\n",
       "      <td>0</td>\n",
       "      <td>0</td>\n",
       "      <td>0</td>\n",
       "      <td>...</td>\n",
       "      <td>0</td>\n",
       "      <td>0</td>\n",
       "      <td>0</td>\n",
       "      <td>0</td>\n",
       "      <td>0</td>\n",
       "      <td>0</td>\n",
       "      <td>0</td>\n",
       "      <td>0</td>\n",
       "      <td>0</td>\n",
       "      <td>0</td>\n",
       "    </tr>\n",
       "    <tr>\n",
       "      <th>1</th>\n",
       "      <td>0</td>\n",
       "      <td>0</td>\n",
       "      <td>0</td>\n",
       "      <td>0</td>\n",
       "      <td>0</td>\n",
       "      <td>0</td>\n",
       "      <td>0</td>\n",
       "      <td>0</td>\n",
       "      <td>0</td>\n",
       "      <td>0</td>\n",
       "      <td>...</td>\n",
       "      <td>0</td>\n",
       "      <td>0</td>\n",
       "      <td>0</td>\n",
       "      <td>0</td>\n",
       "      <td>0</td>\n",
       "      <td>0</td>\n",
       "      <td>0</td>\n",
       "      <td>0</td>\n",
       "      <td>0</td>\n",
       "      <td>0</td>\n",
       "    </tr>\n",
       "    <tr>\n",
       "      <th>2</th>\n",
       "      <td>0</td>\n",
       "      <td>0</td>\n",
       "      <td>0</td>\n",
       "      <td>0</td>\n",
       "      <td>0</td>\n",
       "      <td>0</td>\n",
       "      <td>0</td>\n",
       "      <td>0</td>\n",
       "      <td>0</td>\n",
       "      <td>0</td>\n",
       "      <td>...</td>\n",
       "      <td>0</td>\n",
       "      <td>0</td>\n",
       "      <td>0</td>\n",
       "      <td>0</td>\n",
       "      <td>0</td>\n",
       "      <td>0</td>\n",
       "      <td>0</td>\n",
       "      <td>0</td>\n",
       "      <td>0</td>\n",
       "      <td>1</td>\n",
       "    </tr>\n",
       "    <tr>\n",
       "      <th>3</th>\n",
       "      <td>1</td>\n",
       "      <td>0</td>\n",
       "      <td>0</td>\n",
       "      <td>0</td>\n",
       "      <td>0</td>\n",
       "      <td>0</td>\n",
       "      <td>0</td>\n",
       "      <td>0</td>\n",
       "      <td>0</td>\n",
       "      <td>0</td>\n",
       "      <td>...</td>\n",
       "      <td>0</td>\n",
       "      <td>0</td>\n",
       "      <td>0</td>\n",
       "      <td>0</td>\n",
       "      <td>0</td>\n",
       "      <td>0</td>\n",
       "      <td>0</td>\n",
       "      <td>0</td>\n",
       "      <td>0</td>\n",
       "      <td>0</td>\n",
       "    </tr>\n",
       "    <tr>\n",
       "      <th>4</th>\n",
       "      <td>0</td>\n",
       "      <td>0</td>\n",
       "      <td>0</td>\n",
       "      <td>0</td>\n",
       "      <td>0</td>\n",
       "      <td>0</td>\n",
       "      <td>0</td>\n",
       "      <td>0</td>\n",
       "      <td>0</td>\n",
       "      <td>0</td>\n",
       "      <td>...</td>\n",
       "      <td>0</td>\n",
       "      <td>0</td>\n",
       "      <td>0</td>\n",
       "      <td>0</td>\n",
       "      <td>0</td>\n",
       "      <td>0</td>\n",
       "      <td>0</td>\n",
       "      <td>0</td>\n",
       "      <td>0</td>\n",
       "      <td>0</td>\n",
       "    </tr>\n",
       "    <tr>\n",
       "      <th>...</th>\n",
       "      <td>...</td>\n",
       "      <td>...</td>\n",
       "      <td>...</td>\n",
       "      <td>...</td>\n",
       "      <td>...</td>\n",
       "      <td>...</td>\n",
       "      <td>...</td>\n",
       "      <td>...</td>\n",
       "      <td>...</td>\n",
       "      <td>...</td>\n",
       "      <td>...</td>\n",
       "      <td>...</td>\n",
       "      <td>...</td>\n",
       "      <td>...</td>\n",
       "      <td>...</td>\n",
       "      <td>...</td>\n",
       "      <td>...</td>\n",
       "      <td>...</td>\n",
       "      <td>...</td>\n",
       "      <td>...</td>\n",
       "      <td>...</td>\n",
       "    </tr>\n",
       "    <tr>\n",
       "      <th>550</th>\n",
       "      <td>0</td>\n",
       "      <td>0</td>\n",
       "      <td>0</td>\n",
       "      <td>0</td>\n",
       "      <td>0</td>\n",
       "      <td>0</td>\n",
       "      <td>0</td>\n",
       "      <td>0</td>\n",
       "      <td>0</td>\n",
       "      <td>0</td>\n",
       "      <td>...</td>\n",
       "      <td>1</td>\n",
       "      <td>0</td>\n",
       "      <td>0</td>\n",
       "      <td>0</td>\n",
       "      <td>0</td>\n",
       "      <td>0</td>\n",
       "      <td>0</td>\n",
       "      <td>0</td>\n",
       "      <td>0</td>\n",
       "      <td>0</td>\n",
       "    </tr>\n",
       "    <tr>\n",
       "      <th>551</th>\n",
       "      <td>0</td>\n",
       "      <td>0</td>\n",
       "      <td>0</td>\n",
       "      <td>0</td>\n",
       "      <td>0</td>\n",
       "      <td>0</td>\n",
       "      <td>1</td>\n",
       "      <td>0</td>\n",
       "      <td>0</td>\n",
       "      <td>2</td>\n",
       "      <td>...</td>\n",
       "      <td>0</td>\n",
       "      <td>0</td>\n",
       "      <td>0</td>\n",
       "      <td>0</td>\n",
       "      <td>0</td>\n",
       "      <td>0</td>\n",
       "      <td>0</td>\n",
       "      <td>0</td>\n",
       "      <td>0</td>\n",
       "      <td>0</td>\n",
       "    </tr>\n",
       "    <tr>\n",
       "      <th>552</th>\n",
       "      <td>0</td>\n",
       "      <td>0</td>\n",
       "      <td>0</td>\n",
       "      <td>0</td>\n",
       "      <td>0</td>\n",
       "      <td>0</td>\n",
       "      <td>0</td>\n",
       "      <td>0</td>\n",
       "      <td>0</td>\n",
       "      <td>0</td>\n",
       "      <td>...</td>\n",
       "      <td>0</td>\n",
       "      <td>0</td>\n",
       "      <td>0</td>\n",
       "      <td>0</td>\n",
       "      <td>0</td>\n",
       "      <td>0</td>\n",
       "      <td>0</td>\n",
       "      <td>0</td>\n",
       "      <td>0</td>\n",
       "      <td>0</td>\n",
       "    </tr>\n",
       "    <tr>\n",
       "      <th>553</th>\n",
       "      <td>0</td>\n",
       "      <td>0</td>\n",
       "      <td>0</td>\n",
       "      <td>0</td>\n",
       "      <td>0</td>\n",
       "      <td>0</td>\n",
       "      <td>0</td>\n",
       "      <td>0</td>\n",
       "      <td>0</td>\n",
       "      <td>0</td>\n",
       "      <td>...</td>\n",
       "      <td>0</td>\n",
       "      <td>0</td>\n",
       "      <td>0</td>\n",
       "      <td>0</td>\n",
       "      <td>0</td>\n",
       "      <td>0</td>\n",
       "      <td>0</td>\n",
       "      <td>0</td>\n",
       "      <td>0</td>\n",
       "      <td>0</td>\n",
       "    </tr>\n",
       "    <tr>\n",
       "      <th>554</th>\n",
       "      <td>0</td>\n",
       "      <td>0</td>\n",
       "      <td>0</td>\n",
       "      <td>0</td>\n",
       "      <td>0</td>\n",
       "      <td>0</td>\n",
       "      <td>0</td>\n",
       "      <td>0</td>\n",
       "      <td>0</td>\n",
       "      <td>0</td>\n",
       "      <td>...</td>\n",
       "      <td>0</td>\n",
       "      <td>0</td>\n",
       "      <td>0</td>\n",
       "      <td>0</td>\n",
       "      <td>0</td>\n",
       "      <td>0</td>\n",
       "      <td>0</td>\n",
       "      <td>0</td>\n",
       "      <td>0</td>\n",
       "      <td>0</td>\n",
       "    </tr>\n",
       "  </tbody>\n",
       "</table>\n",
       "<p>555 rows × 150 columns</p>\n",
       "</div>"
      ],
      "text/plain": [
       "     amazing  area  ask  atmosphere  available  average  bad  bean  beautiful  \\\n",
       "0          1     0    0           0          0        0    0     0          0   \n",
       "1          0     0    0           0          0        0    0     0          0   \n",
       "2          0     0    0           0          0        0    0     0          0   \n",
       "3          1     0    0           0          0        0    0     0          0   \n",
       "4          0     0    0           0          0        0    0     0          0   \n",
       "..       ...   ...  ...         ...        ...      ...  ...   ...        ...   \n",
       "550        0     0    0           0          0        0    0     0          0   \n",
       "551        0     0    0           0          0        0    1     0          0   \n",
       "552        0     0    0           0          0        0    0     0          0   \n",
       "553        0     0    0           0          0        0    0     0          0   \n",
       "554        0     0    0           0          0        0    0     0          0   \n",
       "\n",
       "     best  ...  try  type  usually  variety  visit  visited  waiter  way  \\\n",
       "0       0  ...    0     0        0        0      0        0       0    0   \n",
       "1       0  ...    0     0        0        0      0        0       0    0   \n",
       "2       0  ...    0     0        0        0      0        0       0    0   \n",
       "3       0  ...    0     0        0        0      0        0       0    0   \n",
       "4       0  ...    0     0        0        0      0        0       0    0   \n",
       "..    ...  ...  ...   ...      ...      ...    ...      ...     ...  ...   \n",
       "550     0  ...    1     0        0        0      0        0       0    0   \n",
       "551     2  ...    0     0        0        0      0        0       0    0   \n",
       "552     0  ...    0     0        0        0      0        0       0    0   \n",
       "553     0  ...    0     0        0        0      0        0       0    0   \n",
       "554     0  ...    0     0        0        0      0        0       0    0   \n",
       "\n",
       "     white  work  \n",
       "0        0     0  \n",
       "1        0     0  \n",
       "2        0     1  \n",
       "3        0     0  \n",
       "4        0     0  \n",
       "..     ...   ...  \n",
       "550      0     0  \n",
       "551      0     0  \n",
       "552      0     0  \n",
       "553      0     0  \n",
       "554      0     0  \n",
       "\n",
       "[555 rows x 150 columns]"
      ]
     },
     "execution_count": 321,
     "metadata": {},
     "output_type": "execute_result"
    }
   ],
   "source": [
    "d = pd.DataFrame(X,columns=count_vector.get_feature_names())\n",
    "d"
   ]
  },
  {
   "cell_type": "markdown",
   "metadata": {
    "id": "qxruKDByhoSZ"
   },
   "source": [
    "#### **Split data to train and test**\n",
    "Pretty obvious that the random_state is 42, which is the [Answer to the Ultimate Question of Life, the Universe, and Everything](https://en.wikipedia.org/wiki/42_(number)#Popular_culture). :D :D"
   ]
  },
  {
   "cell_type": "code",
   "execution_count": 322,
   "metadata": {
    "id": "P_XbW0198pvD"
   },
   "outputs": [],
   "source": [
    "X_train, X_test, y_train, y_test = train_test_split(X, reviews_df['Quality'], test_size =0.2, random_state=42)"
   ]
  },
  {
   "cell_type": "markdown",
   "metadata": {
    "id": "5gsZfHwTd-1n"
   },
   "source": [
    "### **Logistic Regression**"
   ]
  },
  {
   "cell_type": "code",
   "execution_count": 323,
   "metadata": {
    "colab": {
     "base_uri": "https://localhost:8080/"
    },
    "id": "1AFc3sHv8sMf",
    "outputId": "658e3144-0fe0-47a0-8528-b6046f14b59c"
   },
   "outputs": [
    {
     "data": {
      "text/html": [
       "<style>#sk-container-id-13 {color: black;background-color: white;}#sk-container-id-13 pre{padding: 0;}#sk-container-id-13 div.sk-toggleable {background-color: white;}#sk-container-id-13 label.sk-toggleable__label {cursor: pointer;display: block;width: 100%;margin-bottom: 0;padding: 0.3em;box-sizing: border-box;text-align: center;}#sk-container-id-13 label.sk-toggleable__label-arrow:before {content: \"▸\";float: left;margin-right: 0.25em;color: #696969;}#sk-container-id-13 label.sk-toggleable__label-arrow:hover:before {color: black;}#sk-container-id-13 div.sk-estimator:hover label.sk-toggleable__label-arrow:before {color: black;}#sk-container-id-13 div.sk-toggleable__content {max-height: 0;max-width: 0;overflow: hidden;text-align: left;background-color: #f0f8ff;}#sk-container-id-13 div.sk-toggleable__content pre {margin: 0.2em;color: black;border-radius: 0.25em;background-color: #f0f8ff;}#sk-container-id-13 input.sk-toggleable__control:checked~div.sk-toggleable__content {max-height: 200px;max-width: 100%;overflow: auto;}#sk-container-id-13 input.sk-toggleable__control:checked~label.sk-toggleable__label-arrow:before {content: \"▾\";}#sk-container-id-13 div.sk-estimator input.sk-toggleable__control:checked~label.sk-toggleable__label {background-color: #d4ebff;}#sk-container-id-13 div.sk-label input.sk-toggleable__control:checked~label.sk-toggleable__label {background-color: #d4ebff;}#sk-container-id-13 input.sk-hidden--visually {border: 0;clip: rect(1px 1px 1px 1px);clip: rect(1px, 1px, 1px, 1px);height: 1px;margin: -1px;overflow: hidden;padding: 0;position: absolute;width: 1px;}#sk-container-id-13 div.sk-estimator {font-family: monospace;background-color: #f0f8ff;border: 1px dotted black;border-radius: 0.25em;box-sizing: border-box;margin-bottom: 0.5em;}#sk-container-id-13 div.sk-estimator:hover {background-color: #d4ebff;}#sk-container-id-13 div.sk-parallel-item::after {content: \"\";width: 100%;border-bottom: 1px solid gray;flex-grow: 1;}#sk-container-id-13 div.sk-label:hover label.sk-toggleable__label {background-color: #d4ebff;}#sk-container-id-13 div.sk-serial::before {content: \"\";position: absolute;border-left: 1px solid gray;box-sizing: border-box;top: 0;bottom: 0;left: 50%;z-index: 0;}#sk-container-id-13 div.sk-serial {display: flex;flex-direction: column;align-items: center;background-color: white;padding-right: 0.2em;padding-left: 0.2em;position: relative;}#sk-container-id-13 div.sk-item {position: relative;z-index: 1;}#sk-container-id-13 div.sk-parallel {display: flex;align-items: stretch;justify-content: center;background-color: white;position: relative;}#sk-container-id-13 div.sk-item::before, #sk-container-id-13 div.sk-parallel-item::before {content: \"\";position: absolute;border-left: 1px solid gray;box-sizing: border-box;top: 0;bottom: 0;left: 50%;z-index: -1;}#sk-container-id-13 div.sk-parallel-item {display: flex;flex-direction: column;z-index: 1;position: relative;background-color: white;}#sk-container-id-13 div.sk-parallel-item:first-child::after {align-self: flex-end;width: 50%;}#sk-container-id-13 div.sk-parallel-item:last-child::after {align-self: flex-start;width: 50%;}#sk-container-id-13 div.sk-parallel-item:only-child::after {width: 0;}#sk-container-id-13 div.sk-dashed-wrapped {border: 1px dashed gray;margin: 0 0.4em 0.5em 0.4em;box-sizing: border-box;padding-bottom: 0.4em;background-color: white;}#sk-container-id-13 div.sk-label label {font-family: monospace;font-weight: bold;display: inline-block;line-height: 1.2em;}#sk-container-id-13 div.sk-label-container {text-align: center;}#sk-container-id-13 div.sk-container {/* jupyter's `normalize.less` sets `[hidden] { display: none; }` but bootstrap.min.css set `[hidden] { display: none !important; }` so we also need the `!important` here to be able to override the default hidden behavior on the sphinx rendered scikit-learn.org. See: https://github.com/scikit-learn/scikit-learn/issues/21755 */display: inline-block !important;position: relative;}#sk-container-id-13 div.sk-text-repr-fallback {display: none;}</style><div id=\"sk-container-id-13\" class=\"sk-top-container\"><div class=\"sk-text-repr-fallback\"><pre>LogisticRegression()</pre><b>In a Jupyter environment, please rerun this cell to show the HTML representation or trust the notebook. <br />On GitHub, the HTML representation is unable to render, please try loading this page with nbviewer.org.</b></div><div class=\"sk-container\" hidden><div class=\"sk-item\"><div class=\"sk-estimator sk-toggleable\"><input class=\"sk-toggleable__control sk-hidden--visually\" id=\"sk-estimator-id-13\" type=\"checkbox\" checked><label for=\"sk-estimator-id-13\" class=\"sk-toggleable__label sk-toggleable__label-arrow\">LogisticRegression</label><div class=\"sk-toggleable__content\"><pre>LogisticRegression()</pre></div></div></div></div></div>"
      ],
      "text/plain": [
       "LogisticRegression()"
      ]
     },
     "execution_count": 323,
     "metadata": {},
     "output_type": "execute_result"
    }
   ],
   "source": [
    "# Define Logistic Regression\n",
    "model = LogisticRegression()\n",
    "\n",
    "# train model\n",
    "model.fit(X_train, y_train) "
   ]
  },
  {
   "cell_type": "markdown",
   "metadata": {
    "id": "ts7LrkYPlXcM"
   },
   "source": [
    "#### **Results**"
   ]
  },
  {
   "cell_type": "code",
   "execution_count": 324,
   "metadata": {
    "colab": {
     "base_uri": "https://localhost:8080/"
    },
    "id": "yIb7Bz3CmocI",
    "outputId": "ff2c01af-d9fe-4832-ff90-ebc3b4fe078e"
   },
   "outputs": [
    {
     "name": "stdout",
     "output_type": "stream",
     "text": [
      "Train model accuracy:  0.7657657657657657\n"
     ]
    }
   ],
   "source": [
    "# Predicting the Train set results \n",
    "print('Train model accuracy: ', accuracy_score(y_train, model.predict(X_train)))"
   ]
  },
  {
   "cell_type": "code",
   "execution_count": 325,
   "metadata": {
    "colab": {
     "base_uri": "https://localhost:8080/"
    },
    "id": "j6tbhHdi8zHz",
    "outputId": "025fd3f9-fc50-42f2-db12-cec5880c4cfe"
   },
   "outputs": [
    {
     "name": "stdout",
     "output_type": "stream",
     "text": [
      "Test model accuracy:  0.6756756756756757\n"
     ]
    }
   ],
   "source": [
    "# Predicting the Test set results \n",
    "y_pred = model.predict(X_test) \n",
    "print('Test model accuracy: ', accuracy_score(y_test, y_pred))"
   ]
  },
  {
   "cell_type": "code",
   "execution_count": 326,
   "metadata": {
    "colab": {
     "base_uri": "https://localhost:8080/"
    },
    "id": "lfzC8ZI-83SV",
    "outputId": "5a234d24-8df6-4d61-8757-60ed8ae1f986"
   },
   "outputs": [
    {
     "name": "stdout",
     "output_type": "stream",
     "text": [
      "\u001b[1m Predict 'Overall Quality' using reviews \u001b[0m\n",
      "The classification report for Logistic Regression model\n",
      "-------------------------------------------------------\n",
      "\n",
      "              precision    recall  f1-score   support\n",
      "\n",
      "         bad       0.72      0.76      0.74        67\n",
      "        good       0.60      0.55      0.57        44\n",
      "\n",
      "    accuracy                           0.68       111\n",
      "   macro avg       0.66      0.65      0.66       111\n",
      "weighted avg       0.67      0.68      0.67       111\n",
      "\n"
     ]
    }
   ],
   "source": [
    "print(style.BOLD,\"Predict 'Overall Quality' using reviews\", style.END)\n",
    "print(\"The classification report for Logistic Regression model\")\n",
    "print('-------------------------------------------------------\\n')\n",
    "print(classification_report(y_test, y_pred))"
   ]
  },
  {
   "cell_type": "markdown",
   "metadata": {
    "id": "zJpGaHnDfNA5"
   },
   "source": [
    "## **Overall shop quality prediction using features**"
   ]
  },
  {
   "cell_type": "markdown",
   "metadata": {
    "id": "5LIhM56ZhU10"
   },
   "source": [
    "#### **Split data to train and test**"
   ]
  },
  {
   "cell_type": "code",
   "execution_count": 327,
   "metadata": {
    "id": "N0IK0gBMMLcy"
   },
   "outputs": [
    {
     "data": {
      "text/html": [
       "<div>\n",
       "<style scoped>\n",
       "    .dataframe tbody tr th:only-of-type {\n",
       "        vertical-align: middle;\n",
       "    }\n",
       "\n",
       "    .dataframe tbody tr th {\n",
       "        vertical-align: top;\n",
       "    }\n",
       "\n",
       "    .dataframe thead th {\n",
       "        text-align: right;\n",
       "    }\n",
       "</style>\n",
       "<table border=\"1\" class=\"dataframe\">\n",
       "  <thead>\n",
       "    <tr style=\"text-align: right;\">\n",
       "      <th></th>\n",
       "      <th>40</th>\n",
       "      <th>100</th>\n",
       "      <th>192</th>\n",
       "    </tr>\n",
       "  </thead>\n",
       "  <tbody>\n",
       "    <tr>\n",
       "      <th>Unnamed: 0</th>\n",
       "      <td>40</td>\n",
       "      <td>100</td>\n",
       "      <td>192</td>\n",
       "    </tr>\n",
       "    <tr>\n",
       "      <th>shop_name</th>\n",
       "      <td>Capio Diem</td>\n",
       "      <td>STARBUCKS</td>\n",
       "      <td>Wayne's Coffee</td>\n",
       "    </tr>\n",
       "    <tr>\n",
       "      <th>rating</th>\n",
       "      <td>4.2</td>\n",
       "      <td>4.0</td>\n",
       "      <td>4.7</td>\n",
       "    </tr>\n",
       "    <tr>\n",
       "      <th>numbers_of_rating</th>\n",
       "      <td>629</td>\n",
       "      <td>286</td>\n",
       "      <td>3</td>\n",
       "    </tr>\n",
       "    <tr>\n",
       "      <th>price</th>\n",
       "      <td>2</td>\n",
       "      <td>2</td>\n",
       "      <td>0</td>\n",
       "    </tr>\n",
       "    <tr>\n",
       "      <th>key_words</th>\n",
       "      <td>Cosy, Casual, Groups</td>\n",
       "      <td>none</td>\n",
       "      <td>Cosy, Casual</td>\n",
       "    </tr>\n",
       "    <tr>\n",
       "      <th>address</th>\n",
       "      <td>7343 ابي بكر الصديق، 2284، Riyadh 13313 2284</td>\n",
       "      <td>برج الفيصلية -طريق العليا - حي الاميرية، Riyad...</td>\n",
       "      <td>Takhassusi St, المعذر الشمالي،, Al، Riyadh 12332</td>\n",
       "    </tr>\n",
       "    <tr>\n",
       "      <th>reviews</th>\n",
       "      <td>['Enjoyable place with a lot of board games. N...</td>\n",
       "      <td>[\"I really love this place. It's comfy and cro...</td>\n",
       "      <td>['(Translated by Google) Great place to drink ...</td>\n",
       "    </tr>\n",
       "    <tr>\n",
       "      <th>Cosy</th>\n",
       "      <td>1</td>\n",
       "      <td>0</td>\n",
       "      <td>1</td>\n",
       "    </tr>\n",
       "    <tr>\n",
       "      <th>Groups</th>\n",
       "      <td>1</td>\n",
       "      <td>0</td>\n",
       "      <td>0</td>\n",
       "    </tr>\n",
       "    <tr>\n",
       "      <th>Good for kids</th>\n",
       "      <td>0</td>\n",
       "      <td>0</td>\n",
       "      <td>0</td>\n",
       "    </tr>\n",
       "    <tr>\n",
       "      <th>Breakfast</th>\n",
       "      <td>0</td>\n",
       "      <td>0</td>\n",
       "      <td>0</td>\n",
       "    </tr>\n",
       "    <tr>\n",
       "      <th>Late-night food</th>\n",
       "      <td>0</td>\n",
       "      <td>0</td>\n",
       "      <td>0</td>\n",
       "    </tr>\n",
       "    <tr>\n",
       "      <th>Happy hour food</th>\n",
       "      <td>0</td>\n",
       "      <td>0</td>\n",
       "      <td>0</td>\n",
       "    </tr>\n",
       "    <tr>\n",
       "      <th>Casual</th>\n",
       "      <td>1</td>\n",
       "      <td>0</td>\n",
       "      <td>1</td>\n",
       "    </tr>\n",
       "    <tr>\n",
       "      <th>Vegetarian options</th>\n",
       "      <td>0</td>\n",
       "      <td>0</td>\n",
       "      <td>0</td>\n",
       "    </tr>\n",
       "    <tr>\n",
       "      <th>Outdoor seating</th>\n",
       "      <td>0</td>\n",
       "      <td>0</td>\n",
       "      <td>0</td>\n",
       "    </tr>\n",
       "    <tr>\n",
       "      <th>Cash only</th>\n",
       "      <td>0</td>\n",
       "      <td>0</td>\n",
       "      <td>0</td>\n",
       "    </tr>\n",
       "    <tr>\n",
       "      <th>shop_type_cafe</th>\n",
       "      <td>0</td>\n",
       "      <td>0</td>\n",
       "      <td>1</td>\n",
       "    </tr>\n",
       "    <tr>\n",
       "      <th>shop_type_coffee shop</th>\n",
       "      <td>1</td>\n",
       "      <td>1</td>\n",
       "      <td>0</td>\n",
       "    </tr>\n",
       "    <tr>\n",
       "      <th>quality</th>\n",
       "      <td>good</td>\n",
       "      <td>bad</td>\n",
       "      <td>good</td>\n",
       "    </tr>\n",
       "  </tbody>\n",
       "</table>\n",
       "</div>"
      ],
      "text/plain": [
       "                                                                     40   \\\n",
       "Unnamed: 0                                                            40   \n",
       "shop_name                                                     Capio Diem   \n",
       "rating                                                               4.2   \n",
       "numbers_of_rating                                                    629   \n",
       "price                                                                  2   \n",
       "key_words                                           Cosy, Casual, Groups   \n",
       "address                     7343 ابي بكر الصديق، 2284، Riyadh 13313 2284   \n",
       "reviews                ['Enjoyable place with a lot of board games. N...   \n",
       "Cosy                                                                   1   \n",
       "Groups                                                                 1   \n",
       "Good for kids                                                          0   \n",
       "Breakfast                                                              0   \n",
       "Late-night food                                                        0   \n",
       "Happy hour food                                                        0   \n",
       "Casual                                                                 1   \n",
       "Vegetarian options                                                     0   \n",
       "Outdoor seating                                                        0   \n",
       "Cash only                                                              0   \n",
       "shop_type_cafe                                                         0   \n",
       "shop_type_coffee shop                                                  1   \n",
       "quality                                                             good   \n",
       "\n",
       "                                                                     100  \\\n",
       "Unnamed: 0                                                           100   \n",
       "shop_name                                                      STARBUCKS   \n",
       "rating                                                               4.0   \n",
       "numbers_of_rating                                                    286   \n",
       "price                                                                  2   \n",
       "key_words                                                           none   \n",
       "address                برج الفيصلية -طريق العليا - حي الاميرية، Riyad...   \n",
       "reviews                [\"I really love this place. It's comfy and cro...   \n",
       "Cosy                                                                   0   \n",
       "Groups                                                                 0   \n",
       "Good for kids                                                          0   \n",
       "Breakfast                                                              0   \n",
       "Late-night food                                                        0   \n",
       "Happy hour food                                                        0   \n",
       "Casual                                                                 0   \n",
       "Vegetarian options                                                     0   \n",
       "Outdoor seating                                                        0   \n",
       "Cash only                                                              0   \n",
       "shop_type_cafe                                                         0   \n",
       "shop_type_coffee shop                                                  1   \n",
       "quality                                                              bad   \n",
       "\n",
       "                                                                     192  \n",
       "Unnamed: 0                                                           192  \n",
       "shop_name                                                 Wayne's Coffee  \n",
       "rating                                                               4.7  \n",
       "numbers_of_rating                                                      3  \n",
       "price                                                                  0  \n",
       "key_words                                                   Cosy, Casual  \n",
       "address                 Takhassusi St, المعذر الشمالي،, Al، Riyadh 12332  \n",
       "reviews                ['(Translated by Google) Great place to drink ...  \n",
       "Cosy                                                                   1  \n",
       "Groups                                                                 0  \n",
       "Good for kids                                                          0  \n",
       "Breakfast                                                              0  \n",
       "Late-night food                                                        0  \n",
       "Happy hour food                                                        0  \n",
       "Casual                                                                 1  \n",
       "Vegetarian options                                                     0  \n",
       "Outdoor seating                                                        0  \n",
       "Cash only                                                              0  \n",
       "shop_type_cafe                                                         1  \n",
       "shop_type_coffee shop                                                  0  \n",
       "quality                                                             good  "
      ]
     },
     "execution_count": 327,
     "metadata": {},
     "output_type": "execute_result"
    }
   ],
   "source": [
    "df.sample(3).T"
   ]
  },
  {
   "cell_type": "code",
   "execution_count": 330,
   "metadata": {},
   "outputs": [],
   "source": [
    "X_ = df[['numbers_of_rating', 'price','shop_type_cafe', 'shop_type_coffee shop','Breakfast', \n",
    "       'Cash only', 'Vegetarian options', 'Cosy', 'Late-night food', 'Casual',\n",
    "       'Outdoor seating', 'Groups', 'Happy hour food', 'Good for kids']]\n",
    "\n",
    "y_ = df['quality']"
   ]
  },
  {
   "cell_type": "code",
   "execution_count": 331,
   "metadata": {
    "id": "gXk8Dof_fXgU"
   },
   "outputs": [],
   "source": [
    "X_train_, X_test_, y_train_, y_test_ = train_test_split(X_,y_, test_size =0.2, random_state=42)\n"
   ]
  },
  {
   "cell_type": "markdown",
   "metadata": {
    "id": "fYqzZdoNj5m9"
   },
   "source": [
    "### **Logistic Regression**"
   ]
  },
  {
   "cell_type": "code",
   "execution_count": 332,
   "metadata": {
    "colab": {
     "base_uri": "https://localhost:8080/"
    },
    "id": "sriRZMebfYQb",
    "outputId": "9f0b4f06-7bdd-47cd-9c5e-67d2e4fafb22"
   },
   "outputs": [
    {
     "data": {
      "text/html": [
       "<style>#sk-container-id-14 {color: black;background-color: white;}#sk-container-id-14 pre{padding: 0;}#sk-container-id-14 div.sk-toggleable {background-color: white;}#sk-container-id-14 label.sk-toggleable__label {cursor: pointer;display: block;width: 100%;margin-bottom: 0;padding: 0.3em;box-sizing: border-box;text-align: center;}#sk-container-id-14 label.sk-toggleable__label-arrow:before {content: \"▸\";float: left;margin-right: 0.25em;color: #696969;}#sk-container-id-14 label.sk-toggleable__label-arrow:hover:before {color: black;}#sk-container-id-14 div.sk-estimator:hover label.sk-toggleable__label-arrow:before {color: black;}#sk-container-id-14 div.sk-toggleable__content {max-height: 0;max-width: 0;overflow: hidden;text-align: left;background-color: #f0f8ff;}#sk-container-id-14 div.sk-toggleable__content pre {margin: 0.2em;color: black;border-radius: 0.25em;background-color: #f0f8ff;}#sk-container-id-14 input.sk-toggleable__control:checked~div.sk-toggleable__content {max-height: 200px;max-width: 100%;overflow: auto;}#sk-container-id-14 input.sk-toggleable__control:checked~label.sk-toggleable__label-arrow:before {content: \"▾\";}#sk-container-id-14 div.sk-estimator input.sk-toggleable__control:checked~label.sk-toggleable__label {background-color: #d4ebff;}#sk-container-id-14 div.sk-label input.sk-toggleable__control:checked~label.sk-toggleable__label {background-color: #d4ebff;}#sk-container-id-14 input.sk-hidden--visually {border: 0;clip: rect(1px 1px 1px 1px);clip: rect(1px, 1px, 1px, 1px);height: 1px;margin: -1px;overflow: hidden;padding: 0;position: absolute;width: 1px;}#sk-container-id-14 div.sk-estimator {font-family: monospace;background-color: #f0f8ff;border: 1px dotted black;border-radius: 0.25em;box-sizing: border-box;margin-bottom: 0.5em;}#sk-container-id-14 div.sk-estimator:hover {background-color: #d4ebff;}#sk-container-id-14 div.sk-parallel-item::after {content: \"\";width: 100%;border-bottom: 1px solid gray;flex-grow: 1;}#sk-container-id-14 div.sk-label:hover label.sk-toggleable__label {background-color: #d4ebff;}#sk-container-id-14 div.sk-serial::before {content: \"\";position: absolute;border-left: 1px solid gray;box-sizing: border-box;top: 0;bottom: 0;left: 50%;z-index: 0;}#sk-container-id-14 div.sk-serial {display: flex;flex-direction: column;align-items: center;background-color: white;padding-right: 0.2em;padding-left: 0.2em;position: relative;}#sk-container-id-14 div.sk-item {position: relative;z-index: 1;}#sk-container-id-14 div.sk-parallel {display: flex;align-items: stretch;justify-content: center;background-color: white;position: relative;}#sk-container-id-14 div.sk-item::before, #sk-container-id-14 div.sk-parallel-item::before {content: \"\";position: absolute;border-left: 1px solid gray;box-sizing: border-box;top: 0;bottom: 0;left: 50%;z-index: -1;}#sk-container-id-14 div.sk-parallel-item {display: flex;flex-direction: column;z-index: 1;position: relative;background-color: white;}#sk-container-id-14 div.sk-parallel-item:first-child::after {align-self: flex-end;width: 50%;}#sk-container-id-14 div.sk-parallel-item:last-child::after {align-self: flex-start;width: 50%;}#sk-container-id-14 div.sk-parallel-item:only-child::after {width: 0;}#sk-container-id-14 div.sk-dashed-wrapped {border: 1px dashed gray;margin: 0 0.4em 0.5em 0.4em;box-sizing: border-box;padding-bottom: 0.4em;background-color: white;}#sk-container-id-14 div.sk-label label {font-family: monospace;font-weight: bold;display: inline-block;line-height: 1.2em;}#sk-container-id-14 div.sk-label-container {text-align: center;}#sk-container-id-14 div.sk-container {/* jupyter's `normalize.less` sets `[hidden] { display: none; }` but bootstrap.min.css set `[hidden] { display: none !important; }` so we also need the `!important` here to be able to override the default hidden behavior on the sphinx rendered scikit-learn.org. See: https://github.com/scikit-learn/scikit-learn/issues/21755 */display: inline-block !important;position: relative;}#sk-container-id-14 div.sk-text-repr-fallback {display: none;}</style><div id=\"sk-container-id-14\" class=\"sk-top-container\"><div class=\"sk-text-repr-fallback\"><pre>RandomForestClassifier()</pre><b>In a Jupyter environment, please rerun this cell to show the HTML representation or trust the notebook. <br />On GitHub, the HTML representation is unable to render, please try loading this page with nbviewer.org.</b></div><div class=\"sk-container\" hidden><div class=\"sk-item\"><div class=\"sk-estimator sk-toggleable\"><input class=\"sk-toggleable__control sk-hidden--visually\" id=\"sk-estimator-id-14\" type=\"checkbox\" checked><label for=\"sk-estimator-id-14\" class=\"sk-toggleable__label sk-toggleable__label-arrow\">RandomForestClassifier</label><div class=\"sk-toggleable__content\"><pre>RandomForestClassifier()</pre></div></div></div></div></div>"
      ],
      "text/plain": [
       "RandomForestClassifier()"
      ]
     },
     "execution_count": 332,
     "metadata": {},
     "output_type": "execute_result"
    }
   ],
   "source": [
    "# Define Logistic Regression\n",
    "#model_ = LogisticRegression()\n",
    "\n",
    "model_ = RandomForestClassifier()\n",
    "\n",
    "# train model\n",
    "model_.fit(X_train_, y_train_) \n",
    "\n"
   ]
  },
  {
   "cell_type": "markdown",
   "metadata": {
    "id": "LLJMAZgvleD0"
   },
   "source": [
    "#### **Results**"
   ]
  },
  {
   "cell_type": "code",
   "execution_count": 333,
   "metadata": {
    "colab": {
     "base_uri": "https://localhost:8080/"
    },
    "id": "Xp1AMNqwm2KD",
    "outputId": "9ac755f0-96c7-4c56-b2ee-295501f03dca"
   },
   "outputs": [
    {
     "name": "stdout",
     "output_type": "stream",
     "text": [
      "Train model accuracy:  0.9810126582278481\n"
     ]
    }
   ],
   "source": [
    "# Predicting the Train set results \n",
    "print('Train model accuracy: ', accuracy_score(y_train_, model_.predict(X_train_)))"
   ]
  },
  {
   "cell_type": "code",
   "execution_count": 334,
   "metadata": {
    "colab": {
     "base_uri": "https://localhost:8080/"
    },
    "id": "4_G1XiBihGiA",
    "outputId": "4187af03-6ca2-4b06-a2ff-785f13cc17e7"
   },
   "outputs": [
    {
     "name": "stdout",
     "output_type": "stream",
     "text": [
      "Test model accuracy:  0.5\n"
     ]
    }
   ],
   "source": [
    "# Predicting the Test set results \n",
    "y_pred_ = model_.predict(X_test_) \n",
    "print('Test model accuracy: ', accuracy_score(y_test_, y_pred_))"
   ]
  },
  {
   "cell_type": "code",
   "execution_count": 335,
   "metadata": {
    "colab": {
     "base_uri": "https://localhost:8080/"
    },
    "id": "d8i4105_hNLr",
    "outputId": "89ec5a7d-23c3-4fcd-a2f5-33a2a10e9e4b"
   },
   "outputs": [
    {
     "name": "stdout",
     "output_type": "stream",
     "text": [
      "\u001b[1m Predict 'Overall Quality' using features \u001b[0m\n",
      "The classification report for Logistic Regression model\n",
      "-------------------------------------------------------\n",
      "\n",
      "              precision    recall  f1-score   support\n",
      "\n",
      "         bad       0.56      0.61      0.58        23\n",
      "        good       0.40      0.35      0.38        17\n",
      "\n",
      "    accuracy                           0.50        40\n",
      "   macro avg       0.48      0.48      0.48        40\n",
      "weighted avg       0.49      0.50      0.49        40\n",
      "\n"
     ]
    }
   ],
   "source": [
    "print(style.BOLD,\"Predict 'Overall Quality' using features\",style.END)\n",
    "print(\"The classification report for Logistic Regression model\")\n",
    "print('-------------------------------------------------------\\n')\n",
    "print(classification_report(y_test_, y_pred_))"
   ]
  },
  {
   "cell_type": "markdown",
   "metadata": {
    "id": "AEDef5a_m_nH"
   },
   "source": [
    "## **Remarks**\n",
    "\n",
    "Here are the scope for improvements:\n",
    "- Overfitting can be seen and hence, increase dataset.\n",
    "- Add more features.\n",
    "- Apply differant techniques for texts vectoriztion."
   ]
  },
  {
   "cell_type": "code",
   "execution_count": null,
   "metadata": {
    "id": "BNIDlZUPhQp5"
   },
   "outputs": [],
   "source": []
  }
 ],
 "metadata": {
  "colab": {
   "collapsed_sections": [],
   "name": "Day9_ML.ipynb",
   "provenance": [],
   "toc_visible": true
  },
  "kernelspec": {
   "display_name": "Python 3",
   "language": "python",
   "name": "python3"
  },
  "language_info": {
   "codemirror_mode": {
    "name": "ipython",
    "version": 3
   },
   "file_extension": ".py",
   "mimetype": "text/x-python",
   "name": "python",
   "nbconvert_exporter": "python",
   "pygments_lexer": "ipython3",
   "version": "3.8.8"
  }
 },
 "nbformat": 4,
 "nbformat_minor": 1
}
